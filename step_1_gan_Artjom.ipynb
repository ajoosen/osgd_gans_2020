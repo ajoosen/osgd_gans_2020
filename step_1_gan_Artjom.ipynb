{
 "cells": [
  {
   "cell_type": "code",
   "execution_count": 22,
   "metadata": {},
   "outputs": [],
   "source": [
    "import torch\n",
    "import torch.nn as nn\n",
    "import torch.optim as optim\n",
    "from torch.distributions.normal import Normal\n",
    "import math\n",
    "import numpy as np\n",
    "import scipy.stats as stats\n"
   ]
  },
  {
   "cell_type": "markdown",
   "metadata": {},
   "source": [
    "Define the distribution that we will learn"
   ]
  },
  {
   "cell_type": "code",
   "execution_count": 23,
   "metadata": {},
   "outputs": [],
   "source": [
    "data_mean = 10\n",
    "data_stddev =  math.sqrt(2)\n",
    "Series_Length = 50"
   ]
  },
  {
   "cell_type": "markdown",
   "metadata": {},
   "source": [
    "Define the shape of the generator\n",
    "\n",
    "Takes 20 random inputs and generates a distribution (as defined above)\n",
    "Hidden layer neuron count is defined. "
   ]
  },
  {
   "cell_type": "code",
   "execution_count": 24,
   "metadata": {},
   "outputs": [],
   "source": [
    "g_input_size = 20    \n",
    "g_hidden_size = 150  \n",
    "g_output_size = Series_Length  "
   ]
  },
  {
   "cell_type": "markdown",
   "metadata": {},
   "source": [
    "Define the shape of the discrimiator network\n",
    "\n",
    "output is one value \n",
    "- True (1.0) matches desired distribution\n",
    "- False (0.0) does not match the distribution"
   ]
  },
  {
   "cell_type": "code",
   "execution_count": 25,
   "metadata": {},
   "outputs": [],
   "source": [
    "d_input_size = Series_Length\n",
    "d_hidden_size = 75   \n",
    "d_output_size = 1"
   ]
  },
  {
   "cell_type": "markdown",
   "metadata": {},
   "source": [
    "Now define how to send data into the process\n",
    "\n",
    "There are two phases of training, train the discriminator\n",
    "then the generator. It seems to be important that the discriminator \n",
    "be 'better' than the generator. Sometimes more batches are sent to\n",
    "train the discriminator than the generator. In this case we \n",
    "put more stuff into the discriminator training."
   ]
  },
  {
   "cell_type": "code",
   "execution_count": 26,
   "metadata": {},
   "outputs": [],
   "source": [
    "d_minibatch_size = 15 \n",
    "g_minibatch_size = 10\n",
    "\n",
    "num_epochs = 10000\n",
    "print_interval = 1000"
   ]
  },
  {
   "cell_type": "markdown",
   "metadata": {},
   "source": [
    "Setting learning rates"
   ]
  },
  {
   "cell_type": "code",
   "execution_count": 27,
   "metadata": {},
   "outputs": [],
   "source": [
    "d_learning_rate = 1e-3\n",
    "g_learning_rate = 1e-2"
   ]
  },
  {
   "cell_type": "markdown",
   "metadata": {},
   "source": [
    "Define two functions to return functions that provide\n",
    "a true sample and some random noise. The true sample\n",
    "trains the discriminator, the random noise feeds the \n",
    "generator.\n",
    "\n",
    "Make local copies of the signal generator functions"
   ]
  },
  {
   "cell_type": "code",
   "execution_count": 28,
   "metadata": {},
   "outputs": [],
   "source": [
    "def get_real_sampler(mu, sigma):\n",
    "    dist = Normal( mu, sigma )\n",
    "    return lambda m, n: dist.sample( (m, n) ).requires_grad_()\n",
    "\n",
    "def get_noise_sampler():\n",
    "    return lambda m, n: torch.rand(m, n).requires_grad_()  # Uniform-dist data into generator, _NOT_ Gaussian\n",
    "\n",
    "actual_data = get_real_sampler( data_mean, data_stddev )\n",
    "noise_data  = get_noise_sampler()"
   ]
  },
  {
   "cell_type": "markdown",
   "metadata": {},
   "source": [
    "Define the generator \n",
    "\n",
    "It's important the generator can output means that match. Be careful\n",
    "using something like sigmoid, which outputs 0..1. That would not learn\n",
    "something with mean 2.0 !\n",
    "\n",
    "This network takes in noise\n",
    "and produces an output.\n",
    "\n",
    "xfer is the transfer function"
   ]
  },
  {
   "cell_type": "code",
   "execution_count": 29,
   "metadata": {},
   "outputs": [],
   "source": [
    "class Generator(nn.Module):\n",
    "    def __init__(self, input_size, hidden_size, output_size):\n",
    "        super(Generator, self).__init__()\n",
    "        self.map1 = nn.Linear(input_size, hidden_size)\n",
    "        self.map2 = nn.Linear(hidden_size, hidden_size)\n",
    "        self.map3 = nn.Linear(hidden_size, hidden_size)\n",
    "        self.map4 = nn.Linear(hidden_size, hidden_size)\n",
    "        self.map5 = nn.Linear(hidden_size, hidden_size)\n",
    "        self.map6 = nn.Linear(hidden_size, output_size)\n",
    "        self.xfer = torch.nn.SELU()\n",
    "\n",
    "    def forward(self, x):\n",
    "        x = self.xfer( self.map1(x) )\n",
    "        x = self.xfer( self.map2(x) )\n",
    "        x = self.xfer( self.map3(x) )\n",
    "        x = self.xfer( self.map4(x) )\n",
    "        x = self.xfer( self.map5(x) )\n",
    "        return self.xfer( self.map6( x ) )"
   ]
  },
  {
   "cell_type": "markdown",
   "metadata": {},
   "source": [
    "Note the last layer should restrict to 0..1 (opposite of the generator)\n",
    "This allows us more choice in loss functions.\n",
    "\n",
    "This network is a classic multilayer perceptron - really nothing\n",
    "special at all. It returns true/false based on the learned\n",
    "function."
   ]
  },
  {
   "cell_type": "code",
   "execution_count": 30,
   "metadata": {},
   "outputs": [],
   "source": [
    "class Discriminator(nn.Module):\n",
    "    def __init__(self, input_size, hidden_size, output_size):\n",
    "        super(Discriminator, self).__init__()\n",
    "        self.map1 = nn.Linear(input_size, hidden_size)\n",
    "        self.map2 = nn.Linear(hidden_size, hidden_size)\n",
    "        self.map3 = nn.Linear(hidden_size, hidden_size)\n",
    "        self.map4 = nn.Linear(hidden_size, output_size)\n",
    "        self.elu = torch.nn.ELU()\n",
    "\n",
    "    def forward(self, x):\n",
    "        x = self.elu(self.map1(x))\n",
    "        x = self.elu(self.map2(x))\n",
    "        x = self.elu(self.map3(x))\n",
    "        return torch.sigmoid( self.map4(x) )"
   ]
  },
  {
   "cell_type": "markdown",
   "metadata": {},
   "source": [
    "Instantiate generator and discriminator"
   ]
  },
  {
   "cell_type": "code",
   "execution_count": 31,
   "metadata": {},
   "outputs": [],
   "source": [
    "G = Generator(input_size=g_input_size, hidden_size=g_hidden_size, output_size=g_output_size)\n",
    "D = Discriminator(input_size=d_input_size, hidden_size=d_hidden_size, output_size=d_output_size)"
   ]
  },
  {
   "cell_type": "markdown",
   "metadata": {},
   "source": [
    "Define loss function and optimiser object for generator and discriminator"
   ]
  },
  {
   "cell_type": "code",
   "execution_count": 32,
   "metadata": {},
   "outputs": [],
   "source": [
    "criterion = nn.BCELoss()\n",
    "d_optimizer = optim.SGD(D.parameters(), lr=d_learning_rate ) #, betas=optim_betas)\n",
    "g_optimizer = optim.SGD(G.parameters(), lr=g_learning_rate ) #, betas=optim_betas)"
   ]
  },
  {
   "cell_type": "markdown",
   "metadata": {},
   "source": [
    "This fires in real data and learns a 1.0 mapping"
   ]
  },
  {
   "cell_type": "code",
   "execution_count": 33,
   "metadata": {},
   "outputs": [],
   "source": [
    "def train_D_on_actual() :\n",
    "    real_data = actual_data(d_minibatch_size, d_input_size)\n",
    "    decision = D(real_data)\n",
    "    error = criterion(decision, torch.ones( d_minibatch_size, 1 ))  # ones = true\n",
    "    error.backward() "
   ]
  },
  {
   "cell_type": "markdown",
   "metadata": {},
   "source": [
    "The other side of training: learn to recognize fake output from\n",
    "the generator."
   ]
  },
  {
   "cell_type": "code",
   "execution_count": 34,
   "metadata": {},
   "outputs": [],
   "source": [
    "def train_D_on_generated() :\n",
    "    noise = noise_data( d_minibatch_size, g_input_size )\n",
    "    fake_data = G( noise ) \n",
    "    decision = D( fake_data )\n",
    "    error = criterion( decision, torch.zeros( d_minibatch_size, 1 ))  # zeros = fake\n",
    "    error.backward()"
   ]
  },
  {
   "cell_type": "markdown",
   "metadata": {},
   "source": [
    "The training for the generator is to assume that the generator\n",
    "produces perfect data (i.e. the discriminator returns 1.0).\n",
    "Then learn how to improve the output from the generator based on the discriminators actual output.\n",
    "\n",
    "This is the key piece of a GAN:\n",
    "pass the error through both networks, but only update the generators\n",
    "weights."
   ]
  },
  {
   "cell_type": "code",
   "execution_count": 35,
   "metadata": {},
   "outputs": [],
   "source": [
    "def train_G():\n",
    "    noise = noise_data( g_minibatch_size, g_input_size )\n",
    "    fake_data = G( noise )\n",
    "    fake_decision = D( fake_data )\n",
    "    error = criterion( fake_decision, torch.ones( g_minibatch_size, 1 ) )  # we want to fool, so pretend it's all genuine\n",
    "\n",
    "    error.backward()\n",
    "    return error.item(), fake_data"
   ]
  },
  {
   "cell_type": "markdown",
   "metadata": {},
   "source": [
    "The main loop, train based on loads of data.\n",
    "\n",
    "The algo works like this:\n",
    "    \n",
    "Step 1 is plain old batch learning, if the rest of the code were\n",
    "removed you would have a network that can identify the desired distribution\n",
    "\n",
    "- train the discriminator just like you would train any network\n",
    "- use both true and false (generated) samples to learn\n",
    "\n",
    "Step 2 is the GAN difference\n",
    "- train the generator to produce, but don't compare the output to a good sample\n",
    "- feed the sample generated output through the disciminator to spot the fake\n",
    "- backpropagate the error through the discriminator and the generator\n",
    "\n",
    "So let's think about the possible cases (in *all* cases only the generators parameters \n",
    "are updated in the step 2)\n",
    "\n",
    "*Discrimator perfect, Generator Perfect*\n",
    "Generator makes a sample which is identified as 1.0. Error is 0.0, no learning occurs\n",
    "\n",
    "*Discrimator perfect, Generator Rubbish*\n",
    "Generator makes noise which is identified as 0.0. Error is 1.0, error is propagated and the generator learns\n",
    "\n",
    "*Discrimator rubbish, Generator Perfect*\n",
    "Generator makes sample which is identified as 0.0. Error is 1.0, error is propagated the generator would not learn much because the error would be absorbed by the discriminator\n",
    "\n",
    "*Discrimator rubbish, Generator Rubbish*\n",
    "Generator makes sample which is identified as 0.5. Error is 0.5, error is propagated the gradients in the discriminator and generator would mean the error is shared between both\n",
    "and learning occurs\n",
    "\n",
    "### This step can be slow - depending on the compute power available\n"
   ]
  },
  {
   "cell_type": "code",
   "execution_count": 36,
   "metadata": {},
   "outputs": [
    {
     "name": "stdout",
     "output_type": "stream",
     "text": [
      "Epoch   1000,    Loss = 0.683\n",
      "Epoch   2000,    Loss = 0.695\n",
      "Epoch   3000,    Loss = 0.695\n",
      "Epoch   4000,    Loss = 0.689\n",
      "Epoch   5000,    Loss = 0.689\n",
      "Epoch   6000,    Loss = 0.701\n",
      "Epoch   7000,    Loss = 0.695\n",
      "Epoch   8000,    Loss = 0.689\n",
      "Epoch   9000,    Loss = 0.704\n",
      "Epoch  10000,    Loss = 0.697\n",
      "Training complete\n",
      "tensor([[ 9.4846,  9.4300,  9.0296, 11.2812, 12.8647,  7.2811,  9.6237,  8.5173,\n",
      "         10.0280, 11.2249, 11.7082, 10.0269, 10.3921, 10.3471, 13.7887,  7.8131,\n",
      "          9.4445,  9.0909,  8.2406,  8.4970,  9.0126, 10.9040, 11.5191,  9.5405,\n",
      "         10.3389,  7.7251, 12.0268,  9.7665, 10.2738,  8.7125,  8.3429, 12.5869,\n",
      "         11.5284, 11.1849, 10.9903,  6.8662,  9.1722, 12.0431, 11.0173, 11.7385,\n",
      "         10.5484,  7.2829, 12.3597, 13.3446, 10.1423, 12.1529,  8.5936,  9.0878,\n",
      "         11.3304, 11.3980],\n",
      "        [ 9.0087,  8.9462,  8.7603, 10.8315, 12.2128,  6.9615,  9.1006,  8.0046,\n",
      "          9.5126, 10.8294, 11.0811,  9.5395,  9.9434,  9.9451, 13.0476,  7.4249,\n",
      "          8.9784,  8.5496,  7.8659,  8.2724,  8.5781, 10.3704, 11.0097,  9.0943,\n",
      "          9.8662,  7.3525, 11.5201,  9.2331,  9.7344,  8.2772,  8.0239, 12.0242,\n",
      "         11.0389, 10.7238, 10.4187,  6.5639,  8.8095, 11.4894, 10.4828, 11.2038,\n",
      "          9.9246,  6.9636, 11.7122, 12.6163,  9.6922, 11.5699,  8.0306,  8.6791,\n",
      "         10.8479, 10.7343],\n",
      "        [ 9.3104,  9.2606,  8.9317, 11.1107, 12.6354,  7.1376,  9.4095,  8.3338,\n",
      "          9.8140, 11.0813, 11.4825,  9.8498, 10.2324, 10.1945, 13.4920,  7.6561,\n",
      "          9.2626,  8.9025,  8.0992,  8.4118,  8.8546, 10.7089, 11.3261,  9.3909,\n",
      "         10.1415,  7.5802, 11.8157,  9.5684, 10.0758,  8.5406,  8.2062, 12.3603,\n",
      "         11.3460, 11.0104, 10.7831,  6.7512,  9.0342, 11.8285, 10.8318, 11.5390,\n",
      "         10.3360,  7.1612, 12.1106, 13.0670,  9.9668, 11.9304,  8.3932,  8.9394,\n",
      "         11.1476, 11.1515],\n",
      "        [ 9.7521,  9.7099,  9.1846, 11.5361, 13.1939,  7.4408,  9.9389,  8.7862,\n",
      "         10.3332, 11.4658, 12.0507, 10.2975, 10.6439, 10.5657, 14.2251,  8.0408,\n",
      "          9.7317,  9.3682,  8.4470,  8.6355,  9.2574, 11.1682, 11.8199,  9.7873,\n",
      "         10.6322,  7.9428, 12.3219, 10.0934, 10.5854,  8.9732,  8.5513, 12.9167,\n",
      "         11.8083, 11.4479, 11.3227,  7.0566,  9.3819, 12.3691, 11.3290, 12.0564,\n",
      "         10.8979,  7.4731, 12.7358, 13.7653, 10.4023, 12.4795,  8.9054,  9.3135,\n",
      "         11.6168, 11.7602],\n",
      "        [ 9.1817,  9.1240,  8.8414, 10.9793, 12.4601,  7.0724,  9.2634,  8.2000,\n",
      "          9.6928, 10.9662, 11.3069,  9.7142, 10.1085, 10.0818, 13.3111,  7.5519,\n",
      "          9.1351,  8.7407,  7.9990,  8.3655,  8.7311, 10.5646, 11.1811,  9.2597,\n",
      "         10.0276,  7.4933, 11.7021,  9.4338,  9.9256,  8.4352,  8.1409, 12.2065,\n",
      "         11.2032, 10.8970, 10.6248,  6.7018,  8.9446, 11.6682, 10.6756, 11.4011,\n",
      "         10.1556,  7.0806, 11.9383, 12.8859,  9.8470, 11.7769,  8.2441,  8.8253,\n",
      "         11.0376, 10.9785],\n",
      "        [ 9.2260,  9.1550,  8.8581, 11.0173, 12.4950,  7.0896,  9.3325,  8.2072,\n",
      "          9.7452, 11.0082, 11.3606,  9.7209, 10.1238, 10.1010, 13.3738,  7.5889,\n",
      "          9.2025,  8.7951,  8.0249,  8.3601,  8.7720, 10.5808, 11.2356,  9.2938,\n",
      "         10.0684,  7.5447, 11.7523,  9.5047,  9.9792,  8.4620,  8.1692, 12.2552,\n",
      "         11.2544, 10.9365, 10.6705,  6.7123,  8.9642, 11.7417, 10.7266, 11.4391,\n",
      "         10.2063,  7.1004, 12.0033, 12.9484,  9.8912, 11.8186,  8.2576,  8.8579,\n",
      "         11.0558, 11.0296],\n",
      "        [ 9.2363,  9.1660,  8.8758, 11.0234, 12.5234,  7.0956,  9.3271,  8.2360,\n",
      "          9.7591, 11.0210, 11.3697,  9.7382, 10.1586, 10.1197, 13.4028,  7.5891,\n",
      "          9.1993,  8.8211,  8.0376,  8.3719,  8.7949, 10.5917, 11.2367,  9.3100,\n",
      "         10.0966,  7.5467, 11.7654,  9.4971,  9.9834,  8.4569,  8.1851, 12.2821,\n",
      "         11.2629, 10.9515, 10.7019,  6.7191,  8.9929, 11.7437, 10.7594, 11.4673,\n",
      "         10.2374,  7.0862, 11.9913, 12.9743,  9.9080, 11.8257,  8.3091,  8.8809,\n",
      "         11.0934, 11.0648],\n",
      "        [ 9.9373,  9.9012,  9.2876, 11.7156, 13.4705,  7.5814, 10.1668,  9.0027,\n",
      "         10.5419, 11.6075, 12.2905, 10.4896, 10.8289, 10.7176, 14.5369,  8.1911,\n",
      "          9.9123,  9.6007,  8.6087,  8.7001,  9.4496, 11.3816, 12.0345,  9.9576,\n",
      "         10.8354,  8.1127, 12.5513, 10.2984, 10.8018,  9.1553,  8.6990, 13.1697,\n",
      "         12.0024, 11.6368, 11.5643,  7.1773,  9.5443, 12.5938, 11.5776, 12.2604,\n",
      "         11.1602,  7.5794, 13.0046, 14.0981, 10.5770, 12.7195,  9.1397,  9.4893,\n",
      "         11.8310, 12.0473],\n",
      "        [ 9.3866,  9.3427,  8.9737, 11.1896, 12.7317,  7.1987,  9.5163,  8.4067,\n",
      "          9.9110, 11.1399, 11.5661,  9.9260, 10.3043, 10.2510, 13.6383,  7.7274,\n",
      "          9.3655,  8.9692,  8.1569,  8.4524,  8.9307, 10.7766, 11.4242,  9.4517,\n",
      "         10.2482,  7.6484, 11.9271,  9.6838, 10.1689,  8.6209,  8.2886, 12.4782,\n",
      "         11.4323, 11.0873, 10.8789,  6.8193,  9.1156, 11.9250, 10.9347, 11.6327,\n",
      "         10.4439,  7.2068, 12.2308, 13.2123, 10.0430, 12.0364,  8.4819,  9.0001,\n",
      "         11.2496, 11.2575],\n",
      "        [ 9.4101,  9.3704,  8.9891, 11.2052, 12.7619,  7.2210,  9.5404,  8.4369,\n",
      "          9.9283, 11.1555, 11.5994,  9.9455, 10.3268, 10.2687, 13.6662,  7.7432,\n",
      "          9.3863,  8.9858,  8.1730,  8.4649,  8.9455, 10.8044, 11.4547,  9.4807,\n",
      "         10.2622,  7.6688, 11.9443,  9.7040, 10.1902,  8.6550,  8.2907, 12.4935,\n",
      "         11.4513, 11.1115, 10.8973,  6.8341,  9.1310, 11.9508, 10.9510, 11.6488,\n",
      "         10.4706,  7.2239, 12.2574, 13.2337, 10.0648, 12.0660,  8.4949,  9.0245,\n",
      "         11.2643, 11.2837]], grad_fn=<EluBackward>)\n",
      "torch.Size([10, 50])\n"
     ]
    }
   ],
   "source": [
    "losses = []\n",
    "\n",
    "for epoch in range(num_epochs):\n",
    "    D.zero_grad()\n",
    "    \n",
    "    train_D_on_actual()    \n",
    "    train_D_on_generated()\n",
    "    d_optimizer.step()\n",
    "    \n",
    "    G.zero_grad()\n",
    "    loss,generated = train_G()\n",
    "    g_optimizer.step()\n",
    "    \n",
    "    losses.append( loss )\n",
    "    if( epoch % print_interval) == (print_interval-1) :\n",
    "        print( \"Epoch %6d,    Loss = %5.3f\" % ( epoch+1, loss ) )\n",
    "        \n",
    "print( \"Training complete\" )\n",
    "print(generated)\n",
    "print(generated.size())"
   ]
  },
  {
   "cell_type": "markdown",
   "metadata": {},
   "source": [
    "After training everything we'll generate some samples and draw them. It's easy enough\n",
    "to see that we have something like a nice normal distribution.\n",
    "This step is entirely optional but it's nice to see what we did actually worked."
   ]
  },
  {
   "cell_type": "code",
   "execution_count": 37,
   "metadata": {},
   "outputs": [],
   "source": [
    "demo_length = 100\n",
    "\n",
    "d = torch.empty( generated.size(0), demo_length ) \n",
    "\n",
    "#print(generated)"
   ]
  },
  {
   "cell_type": "code",
   "execution_count": 38,
   "metadata": {},
   "outputs": [],
   "source": [
    "import matplotlib.pyplot as plt\n",
    "\n",
    "def draw( data ) :    \n",
    "    plt.figure(figsize=(10,5))\n",
    "    \n",
    "    #generated distributions\n",
    "    generated_distributions = data.tolist() if isinstance(data, torch.Tensor) else data\n",
    "    plt.plot(generated_distributions)\n",
    "\n",
    "    #plotting normal distribution with correct parameters for reference\n",
    "    original=torch.empty(demo_length).normal_(mean=data_mean,std=data_stddev)\n",
    "    original_histogram = torch.histc( original, min=0, max=30, bins=demo_length )\n",
    "    plt.plot(original_histogram, linewidth=3)\n",
    "    \n",
    "    #plt.xticks(ticks = [1, 2, 3], labels = ['0', '1', '2'])\n",
    "    \n",
    "    plt.show()"
   ]
  },
  {
   "cell_type": "code",
   "execution_count": 39,
   "metadata": {},
   "outputs": [
    {
     "data": {
      "image/png": "[encoded data removed]",
      "text/plain": [
       "<Figure size 720x360 with 1 Axes>"
      ]
     },
     "metadata": {
      "needs_background": "light"
     },
     "output_type": "display_data"
    }
   ],
   "source": [
    "for i in range( 0, d.size(0) ) :\n",
    "    d[i] = torch.histc( generated[i], min=0, max=30, bins=demo_length )\n",
    "    \n",
    "draw( d.t() )"
   ]
  },
  {
   "cell_type": "code",
   "execution_count": 40,
   "metadata": {},
   "outputs": [
    {
     "data": {
      "text/plain": [
       "tensor([[0., 0., 0., 0., 0., 0., 0., 0., 0., 0., 0., 0., 0., 0., 0., 0., 0., 0.,\n",
       "         0., 0., 0., 0., 1., 0., 2., 1., 1., 2., 3., 1., 5., 4., 2., 3., 4., 1.,\n",
       "         3., 5., 2., 2., 3., 2., 1., 0., 1., 1., 0., 0., 0., 0., 0., 0., 0., 0.,\n",
       "         0., 0., 0., 0., 0., 0., 0., 0., 0., 0., 0., 0., 0., 0., 0., 0., 0., 0.,\n",
       "         0., 0., 0., 0., 0., 0., 0., 0., 0., 0., 0., 0., 0., 0., 0., 0., 0., 0.,\n",
       "         0., 0., 0., 0., 0., 0., 0., 0., 0., 0.],\n",
       "        [0., 0., 0., 0., 0., 0., 0., 0., 0., 0., 0., 0., 0., 0., 0., 0., 0., 0.,\n",
       "         0., 0., 0., 1., 0., 2., 2., 0., 4., 2., 3., 4., 4., 2., 3., 3., 3., 2.,\n",
       "         6., 1., 3., 1., 2., 0., 1., 1., 0., 0., 0., 0., 0., 0., 0., 0., 0., 0.,\n",
       "         0., 0., 0., 0., 0., 0., 0., 0., 0., 0., 0., 0., 0., 0., 0., 0., 0., 0.,\n",
       "         0., 0., 0., 0., 0., 0., 0., 0., 0., 0., 0., 0., 0., 0., 0., 0., 0., 0.,\n",
       "         0., 0., 0., 0., 0., 0., 0., 0., 0., 0.],\n",
       "        [0., 0., 0., 0., 0., 0., 0., 0., 0., 0., 0., 0., 0., 0., 0., 0., 0., 0.,\n",
       "         0., 0., 0., 0., 1., 2., 0., 2., 1., 3., 2., 4., 3., 4., 2., 4., 2., 2.,\n",
       "         3., 5., 2., 3., 1., 1., 1., 1., 1., 0., 0., 0., 0., 0., 0., 0., 0., 0.,\n",
       "         0., 0., 0., 0., 0., 0., 0., 0., 0., 0., 0., 0., 0., 0., 0., 0., 0., 0.,\n",
       "         0., 0., 0., 0., 0., 0., 0., 0., 0., 0., 0., 0., 0., 0., 0., 0., 0., 0.,\n",
       "         0., 0., 0., 0., 0., 0., 0., 0., 0., 0.],\n",
       "        [0., 0., 0., 0., 0., 0., 0., 0., 0., 0., 0., 0., 0., 0., 0., 0., 0., 0.,\n",
       "         0., 0., 0., 0., 0., 1., 2., 0., 2., 0., 3., 3., 2., 3., 4., 2., 3., 4.,\n",
       "         1., 3., 4., 3., 2., 3., 1., 2., 0., 1., 0., 1., 0., 0., 0., 0., 0., 0.,\n",
       "         0., 0., 0., 0., 0., 0., 0., 0., 0., 0., 0., 0., 0., 0., 0., 0., 0., 0.,\n",
       "         0., 0., 0., 0., 0., 0., 0., 0., 0., 0., 0., 0., 0., 0., 0., 0., 0., 0.,\n",
       "         0., 0., 0., 0., 0., 0., 0., 0., 0., 0.],\n",
       "        [0., 0., 0., 0., 0., 0., 0., 0., 0., 0., 0., 0., 0., 0., 0., 0., 0., 0.,\n",
       "         0., 0., 0., 0., 1., 2., 1., 1., 1., 4., 1., 5., 5., 1., 3., 5., 0., 3.,\n",
       "         5., 3., 2., 3., 1., 1., 1., 0., 1., 0., 0., 0., 0., 0., 0., 0., 0., 0.,\n",
       "         0., 0., 0., 0., 0., 0., 0., 0., 0., 0., 0., 0., 0., 0., 0., 0., 0., 0.,\n",
       "         0., 0., 0., 0., 0., 0., 0., 0., 0., 0., 0., 0., 0., 0., 0., 0., 0., 0.,\n",
       "         0., 0., 0., 0., 0., 0., 0., 0., 0., 0.],\n",
       "        [0., 0., 0., 0., 0., 0., 0., 0., 0., 0., 0., 0., 0., 0., 0., 0., 0., 0.,\n",
       "         0., 0., 0., 0., 1., 2., 0., 2., 1., 4., 1., 5., 4., 2., 3., 4., 1., 3.,\n",
       "         5., 3., 1., 3., 2., 1., 0., 1., 1., 0., 0., 0., 0., 0., 0., 0., 0., 0.,\n",
       "         0., 0., 0., 0., 0., 0., 0., 0., 0., 0., 0., 0., 0., 0., 0., 0., 0., 0.,\n",
       "         0., 0., 0., 0., 0., 0., 0., 0., 0., 0., 0., 0., 0., 0., 0., 0., 0., 0.,\n",
       "         0., 0., 0., 0., 0., 0., 0., 0., 0., 0.],\n",
       "        [0., 0., 0., 0., 0., 0., 0., 0., 0., 0., 0., 0., 0., 0., 0., 0., 0., 0.,\n",
       "         0., 0., 0., 0., 1., 2., 0., 2., 1., 4., 1., 5., 3., 3., 2., 5., 1., 3.,\n",
       "         5., 3., 1., 4., 1., 1., 0., 1., 1., 0., 0., 0., 0., 0., 0., 0., 0., 0.,\n",
       "         0., 0., 0., 0., 0., 0., 0., 0., 0., 0., 0., 0., 0., 0., 0., 0., 0., 0.,\n",
       "         0., 0., 0., 0., 0., 0., 0., 0., 0., 0., 0., 0., 0., 0., 0., 0., 0., 0.,\n",
       "         0., 0., 0., 0., 0., 0., 0., 0., 0., 0.],\n",
       "        [0., 0., 0., 0., 0., 0., 0., 0., 0., 0., 0., 0., 0., 0., 0., 0., 0., 0.,\n",
       "         0., 0., 0., 0., 0., 1., 0., 2., 0., 2., 2., 1., 4., 3., 1., 5., 2., 3.,\n",
       "         3., 2., 4., 2., 5., 2., 1., 2., 1., 0., 1., 0., 1., 0., 0., 0., 0., 0.,\n",
       "         0., 0., 0., 0., 0., 0., 0., 0., 0., 0., 0., 0., 0., 0., 0., 0., 0., 0.,\n",
       "         0., 0., 0., 0., 0., 0., 0., 0., 0., 0., 0., 0., 0., 0., 0., 0., 0., 0.,\n",
       "         0., 0., 0., 0., 0., 0., 0., 0., 0., 0.],\n",
       "        [0., 0., 0., 0., 0., 0., 0., 0., 0., 0., 0., 0., 0., 0., 0., 0., 0., 0.,\n",
       "         0., 0., 0., 0., 1., 1., 1., 2., 0., 2., 4., 3., 2., 5., 1., 4., 4., 1.,\n",
       "         3., 4., 4., 2., 2., 1., 1., 0., 1., 1., 0., 0., 0., 0., 0., 0., 0., 0.,\n",
       "         0., 0., 0., 0., 0., 0., 0., 0., 0., 0., 0., 0., 0., 0., 0., 0., 0., 0.,\n",
       "         0., 0., 0., 0., 0., 0., 0., 0., 0., 0., 0., 0., 0., 0., 0., 0., 0., 0.,\n",
       "         0., 0., 0., 0., 0., 0., 0., 0., 0., 0.],\n",
       "        [0., 0., 0., 0., 0., 0., 0., 0., 0., 0., 0., 0., 0., 0., 0., 0., 0., 0.,\n",
       "         0., 0., 0., 0., 1., 0., 2., 2., 0., 2., 4., 3., 2., 5., 1., 4., 4., 0.,\n",
       "         3., 5., 4., 2., 2., 1., 1., 0., 1., 1., 0., 0., 0., 0., 0., 0., 0., 0.,\n",
       "         0., 0., 0., 0., 0., 0., 0., 0., 0., 0., 0., 0., 0., 0., 0., 0., 0., 0.,\n",
       "         0., 0., 0., 0., 0., 0., 0., 0., 0., 0., 0., 0., 0., 0., 0., 0., 0., 0.,\n",
       "         0., 0., 0., 0., 0., 0., 0., 0., 0., 0.]], grad_fn=<CopySlices>)"
      ]
     },
     "execution_count": 40,
     "metadata": {},
     "output_type": "execute_result"
    }
   ],
   "source": [
    "d"
   ]
  },
  {
   "cell_type": "code",
   "execution_count": 41,
   "metadata": {},
   "outputs": [
    {
     "data": {
      "text/plain": [
       "tensor(0.5000, grad_fn=<MeanBackward0>)"
      ]
     },
     "execution_count": 41,
     "metadata": {},
     "output_type": "execute_result"
    }
   ],
   "source": [
    "torch.mean(d)"
   ]
  },
  {
   "cell_type": "code",
   "execution_count": 42,
   "metadata": {},
   "outputs": [
    {
     "data": {
      "text/plain": [
       "torch.Size([10, 100])"
      ]
     },
     "execution_count": 42,
     "metadata": {},
     "output_type": "execute_result"
    }
   ],
   "source": [
    "d.size()\n"
   ]
  },
  {
   "cell_type": "code",
   "execution_count": null,
   "metadata": {},
   "outputs": [],
   "source": []
  }
 ],
 "metadata": {
  "kernelspec": {
   "display_name": "Python 3",
   "language": "python",
   "name": "python3"
  },
  "language_info": {
   "codemirror_mode": {
    "name": "ipython",
    "version": 3
   },
   "file_extension": ".py",
   "mimetype": "text/x-python",
   "name": "python",
   "nbconvert_exporter": "python",
   "pygments_lexer": "ipython3",
   "version": "3.7.6"
  }
 },
 "nbformat": 4,
 "nbformat_minor": 2
}
